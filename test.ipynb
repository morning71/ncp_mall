{
 "cells": [
  {
   "cell_type": "code",
   "execution_count": 13,
   "metadata": {
    "collapsed": true
   },
   "outputs": [
    {
     "ename": "AttributeError",
     "evalue": "'str' object has no attribute 'width'",
     "output_type": "error",
     "traceback": [
      "\u001B[1;31m---------------------------------------------------------------------------\u001B[0m",
      "\u001B[1;31mAttributeError\u001B[0m                            Traceback (most recent call last)",
      "\u001B[1;32m<ipython-input-13-72548aa0f10d>\u001B[0m in \u001B[0;36m<module>\u001B[1;34m\u001B[0m\n\u001B[0;32m      2\u001B[0m \u001B[1;33m\u001B[0m\u001B[0m\n\u001B[0;32m      3\u001B[0m \u001B[0mpage\u001B[0m \u001B[1;33m=\u001B[0m \u001B[0mPage\u001B[0m\u001B[1;33m(\u001B[0m\u001B[1;33m)\u001B[0m\u001B[1;33m\u001B[0m\u001B[1;33m\u001B[0m\u001B[0m\n\u001B[1;32m----> 4\u001B[1;33m \u001B[0mmap\u001B[0m \u001B[1;33m=\u001B[0m \u001B[0mMap\u001B[0m\u001B[1;33m(\u001B[0m\u001B[1;34m\"供应商地区分布图\"\u001B[0m\u001B[1;33m)\u001B[0m\u001B[1;33m\u001B[0m\u001B[1;33m\u001B[0m\u001B[0m\n\u001B[0m\u001B[0;32m      5\u001B[0m \u001B[1;32mimport\u001B[0m \u001B[0mpymysql\u001B[0m\u001B[1;33m\u001B[0m\u001B[1;33m\u001B[0m\u001B[0m\n\u001B[0;32m      6\u001B[0m \u001B[0mdb\u001B[0m \u001B[1;33m=\u001B[0m \u001B[0mpymysql\u001B[0m\u001B[1;33m.\u001B[0m\u001B[0mconnect\u001B[0m\u001B[1;33m(\u001B[0m\u001B[1;34m'localhost'\u001B[0m\u001B[1;33m,\u001B[0m\u001B[1;34m'root'\u001B[0m\u001B[1;33m,\u001B[0m\u001B[1;34m'morning321'\u001B[0m\u001B[1;33m,\u001B[0m\u001B[1;34m'qshop'\u001B[0m\u001B[1;33m)\u001B[0m\u001B[1;33m\u001B[0m\u001B[1;33m\u001B[0m\u001B[0m\n",
      "\u001B[1;32mc:\\users\\morning\\appdata\\local\\programs\\python\\python36\\lib\\site-packages\\pyecharts\\charts\\basic_charts\\map.py\u001B[0m in \u001B[0;36m__init__\u001B[1;34m(self, init_opts)\u001B[0m\n\u001B[0;32m     14\u001B[0m \u001B[1;33m\u001B[0m\u001B[0m\n\u001B[0;32m     15\u001B[0m     \u001B[1;32mdef\u001B[0m \u001B[0m__init__\u001B[0m\u001B[1;33m(\u001B[0m\u001B[0mself\u001B[0m\u001B[1;33m,\u001B[0m \u001B[0minit_opts\u001B[0m\u001B[1;33m:\u001B[0m \u001B[0mUnion\u001B[0m\u001B[1;33m[\u001B[0m\u001B[0mopts\u001B[0m\u001B[1;33m.\u001B[0m\u001B[0mInitOpts\u001B[0m\u001B[1;33m,\u001B[0m \u001B[0mdict\u001B[0m\u001B[1;33m]\u001B[0m \u001B[1;33m=\u001B[0m \u001B[0mopts\u001B[0m\u001B[1;33m.\u001B[0m\u001B[0mInitOpts\u001B[0m\u001B[1;33m(\u001B[0m\u001B[1;33m)\u001B[0m\u001B[1;33m)\u001B[0m\u001B[1;33m:\u001B[0m\u001B[1;33m\u001B[0m\u001B[1;33m\u001B[0m\u001B[0m\n\u001B[1;32m---> 16\u001B[1;33m         \u001B[0msuper\u001B[0m\u001B[1;33m(\u001B[0m\u001B[1;33m)\u001B[0m\u001B[1;33m.\u001B[0m\u001B[0m__init__\u001B[0m\u001B[1;33m(\u001B[0m\u001B[0minit_opts\u001B[0m\u001B[1;33m=\u001B[0m\u001B[0minit_opts\u001B[0m\u001B[1;33m)\u001B[0m\u001B[1;33m\u001B[0m\u001B[1;33m\u001B[0m\u001B[0m\n\u001B[0m\u001B[0;32m     17\u001B[0m \u001B[1;33m\u001B[0m\u001B[0m\n\u001B[0;32m     18\u001B[0m     def add(\n",
      "\u001B[1;32mc:\\users\\morning\\appdata\\local\\programs\\python\\python36\\lib\\site-packages\\pyecharts\\charts\\chart.py\u001B[0m in \u001B[0;36m__init__\u001B[1;34m(self, init_opts)\u001B[0m\n\u001B[0;32m     12\u001B[0m \u001B[1;33m\u001B[0m\u001B[0m\n\u001B[0;32m     13\u001B[0m     \u001B[1;32mdef\u001B[0m \u001B[0m__init__\u001B[0m\u001B[1;33m(\u001B[0m\u001B[0mself\u001B[0m\u001B[1;33m,\u001B[0m \u001B[0minit_opts\u001B[0m\u001B[1;33m:\u001B[0m \u001B[0mUnion\u001B[0m\u001B[1;33m[\u001B[0m\u001B[0mopts\u001B[0m\u001B[1;33m.\u001B[0m\u001B[0mInitOpts\u001B[0m\u001B[1;33m,\u001B[0m \u001B[0mdict\u001B[0m\u001B[1;33m]\u001B[0m \u001B[1;33m=\u001B[0m \u001B[0mopts\u001B[0m\u001B[1;33m.\u001B[0m\u001B[0mInitOpts\u001B[0m\u001B[1;33m(\u001B[0m\u001B[1;33m)\u001B[0m\u001B[1;33m)\u001B[0m\u001B[1;33m:\u001B[0m\u001B[1;33m\u001B[0m\u001B[1;33m\u001B[0m\u001B[0m\n\u001B[1;32m---> 14\u001B[1;33m         \u001B[0msuper\u001B[0m\u001B[1;33m(\u001B[0m\u001B[1;33m)\u001B[0m\u001B[1;33m.\u001B[0m\u001B[0m__init__\u001B[0m\u001B[1;33m(\u001B[0m\u001B[0minit_opts\u001B[0m\u001B[1;33m=\u001B[0m\u001B[0minit_opts\u001B[0m\u001B[1;33m)\u001B[0m\u001B[1;33m\u001B[0m\u001B[1;33m\u001B[0m\u001B[0m\n\u001B[0m\u001B[0;32m     15\u001B[0m         self._colors = (\n\u001B[0;32m     16\u001B[0m             \u001B[1;34m\"#c23531 #2f4554 #61a0a8 #d48265 #749f83 #ca8622 #bda29a #6e7074 \"\u001B[0m\u001B[1;33m\u001B[0m\u001B[1;33m\u001B[0m\u001B[0m\n",
      "\u001B[1;32mc:\\users\\morning\\appdata\\local\\programs\\python\\python36\\lib\\site-packages\\pyecharts\\charts\\base.py\u001B[0m in \u001B[0;36m__init__\u001B[1;34m(self, init_opts)\u001B[0m\n\u001B[0;32m     22\u001B[0m \u001B[1;33m\u001B[0m\u001B[0m\n\u001B[0;32m     23\u001B[0m     \u001B[1;32mdef\u001B[0m \u001B[0m__init__\u001B[0m\u001B[1;33m(\u001B[0m\u001B[0mself\u001B[0m\u001B[1;33m,\u001B[0m \u001B[0minit_opts\u001B[0m\u001B[1;33m:\u001B[0m \u001B[0mUnion\u001B[0m\u001B[1;33m[\u001B[0m\u001B[0mInitOpts\u001B[0m\u001B[1;33m,\u001B[0m \u001B[0mdict\u001B[0m\u001B[1;33m]\u001B[0m \u001B[1;33m=\u001B[0m \u001B[0mInitOpts\u001B[0m\u001B[1;33m(\u001B[0m\u001B[1;33m)\u001B[0m\u001B[1;33m)\u001B[0m\u001B[1;33m:\u001B[0m\u001B[1;33m\u001B[0m\u001B[1;33m\u001B[0m\u001B[0m\n\u001B[1;32m---> 24\u001B[1;33m         \u001B[0mself\u001B[0m\u001B[1;33m.\u001B[0m\u001B[0mwidth\u001B[0m \u001B[1;33m=\u001B[0m \u001B[0minit_opts\u001B[0m\u001B[1;33m.\u001B[0m\u001B[0mwidth\u001B[0m\u001B[1;33m\u001B[0m\u001B[1;33m\u001B[0m\u001B[0m\n\u001B[0m\u001B[0;32m     25\u001B[0m         \u001B[0mself\u001B[0m\u001B[1;33m.\u001B[0m\u001B[0mheight\u001B[0m \u001B[1;33m=\u001B[0m \u001B[0minit_opts\u001B[0m\u001B[1;33m.\u001B[0m\u001B[0mheight\u001B[0m\u001B[1;33m\u001B[0m\u001B[1;33m\u001B[0m\u001B[0m\n\u001B[0;32m     26\u001B[0m         \u001B[0mself\u001B[0m\u001B[1;33m.\u001B[0m\u001B[0mrenderer\u001B[0m \u001B[1;33m=\u001B[0m \u001B[0minit_opts\u001B[0m\u001B[1;33m.\u001B[0m\u001B[0mrenderer\u001B[0m\u001B[1;33m\u001B[0m\u001B[1;33m\u001B[0m\u001B[0m\n",
      "\u001B[1;31mAttributeError\u001B[0m: 'str' object has no attribute 'width'"
     ]
    }
   ],
   "source": [
    "from pyecharts.charts import Page,Line,Bar,Geo,Map\n",
    "\n",
    "page = Page()\n",
    "map = Map(\"供应商地区分布图\")\n",
    "import pymysql\n",
    "db = pymysql.connect('localhost','root','morning321','qshop')\n",
    "cursor = db.cursor()\n",
    "select_sql = 'SELECT goods_address,COUNT(goods_address) FROM goods_goods GROUP BY goods_address;'\n",
    "city_list = []\n",
    "num_list = []\n",
    "for i in cursor.fetchall():\n",
    "    city_list.append(i[0])\n",
    "    num_list.append(i[1])\n",
    "map.add(\"\",city_list,num_list,maptype='china',is_visualmap=True,visual_text_color=\"#000\",is_label_show=True)\n",
    "map.render(\"./charts.html\")"
   ]
  },
  {
   "cell_type": "code",
   "execution_count": 6,
   "outputs": [],
   "source": [
    "import pymysql\n",
    "db = pymysql.connect('localhost','root','morning321','qshop')\n",
    "cursor = db.cursor()\n",
    "select_sql = 'SELECT id FROM goods_goods;'\n",
    "cursor.execute(select_sql)\n",
    "city_list = ['北京','上海','河南','河南','河南','河南','河南','河北','天津','黑龙江','黑龙江','黑龙江','黑龙江','黑龙江','黑龙江','吉林','吉林','吉林','吉林','吉林','吉林','辽宁','辽宁','辽宁','辽宁','辽宁','辽宁','山东','福建','江西','江西','江西','江西','陕西','四川','四川','四川','四川','新疆','新疆','新疆','新疆','浙江','江苏']\n",
    "import random\n",
    "\n",
    "data = []\n",
    "for i in cursor.fetchall():\n",
    "    id = i[0]\n",
    "    tag = random.randint(0,len(city_list)-1)\n",
    "    city = city_list[tag]\n",
    "    data.append((city,id))\n",
    "insert_sql = 'UPDATE goods_goods SET goods_address = %s WHERE id = %s;'\n",
    "cursor.executemany(insert_sql,data)\n",
    "db.commit()\n"
   ],
   "metadata": {
    "collapsed": false,
    "pycharm": {
     "name": "#%%\n"
    }
   }
  }
 ],
 "metadata": {
  "kernelspec": {
   "display_name": "Python 3",
   "language": "python",
   "name": "python3"
  },
  "language_info": {
   "codemirror_mode": {
    "name": "ipython",
    "version": 2
   },
   "file_extension": ".py",
   "mimetype": "text/x-python",
   "name": "python",
   "nbconvert_exporter": "python",
   "pygments_lexer": "ipython2",
   "version": "2.7.6"
  }
 },
 "nbformat": 4,
 "nbformat_minor": 0
}